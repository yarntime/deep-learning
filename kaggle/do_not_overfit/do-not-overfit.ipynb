{
 "cells": [
  {
   "cell_type": "code",
   "execution_count": 15,
   "metadata": {},
   "outputs": [],
   "source": [
    "import tensorflow as tf\n",
    "import numpy as np\n",
    "import matplotlib.pyplot as plt\n",
    "import pandas as pd\n",
    "import sklearn.linear_model.bayes\n",
    "import lightgbm as lgb\n",
    "import seaborn as sns\n",
    "from sklearn.model_selection import KFold, RepeatedKFold\n"
   ]
  },
  {
   "cell_type": "code",
   "execution_count": 16,
   "metadata": {},
   "outputs": [],
   "source": [
    "train = pd.read_csv(\"train.csv\")\n",
    "test = pd.read_csv(\"test.csv\")"
   ]
  },
  {
   "cell_type": "code",
   "execution_count": 17,
   "metadata": {},
   "outputs": [],
   "source": [
    "#rel = train.corr()\n",
    "#k = 200\n",
    "#cols = rel.nlargest(k, 'target')['target'].index\n",
    "cols = train.columns"
   ]
  },
  {
   "cell_type": "code",
   "execution_count": 18,
   "metadata": {},
   "outputs": [
    {
     "name": "stdout",
     "output_type": "stream",
     "text": [
      "Index(['id', 'target', '0', '1', '2', '3', '4', '5', '6', '7',\n",
      "       ...\n",
      "       '290', '291', '292', '293', '294', '295', '296', '297', '298', '299'],\n",
      "      dtype='object', length=302)\n"
     ]
    }
   ],
   "source": [
    "print(cols)"
   ]
  },
  {
   "cell_type": "code",
   "execution_count": 19,
   "metadata": {},
   "outputs": [],
   "source": [
    "x = train[[f for f in cols if f not in ['target']]]\n",
    "y = train['target']\n",
    "ids = test['id']\n",
    "del test['id']"
   ]
  },
  {
   "cell_type": "code",
   "execution_count": 20,
   "metadata": {},
   "outputs": [
    {
     "name": "stdout",
     "output_type": "stream",
     "text": [
      "fold n°1\n",
      "Training until validation scores don't improve for 1000 rounds.\n",
      "[200]\ttraining's l2: 0.103981\tvalid_1's l2: 0.196934\n",
      "[400]\ttraining's l2: 0.0523686\tvalid_1's l2: 0.188782\n",
      "[600]\ttraining's l2: 0.027871\tvalid_1's l2: 0.185426\n",
      "[800]\ttraining's l2: 0.0151719\tvalid_1's l2: 0.182213\n",
      "[1000]\ttraining's l2: 0.00857539\tvalid_1's l2: 0.180959\n",
      "[1200]\ttraining's l2: 0.00496318\tvalid_1's l2: 0.180668\n",
      "[1400]\ttraining's l2: 0.00298091\tvalid_1's l2: 0.179884\n",
      "[1600]\ttraining's l2: 0.00183749\tvalid_1's l2: 0.180508\n",
      "[1800]\ttraining's l2: 0.00117241\tvalid_1's l2: 0.180653\n",
      "[2000]\ttraining's l2: 0.000774604\tvalid_1's l2: 0.180789\n",
      "[2200]\ttraining's l2: 0.000524981\tvalid_1's l2: 0.180806\n",
      "Early stopping, best iteration is:\n",
      "[1372]\ttraining's l2: 0.00319677\tvalid_1's l2: 0.179726\n",
      "fold n°2\n",
      "Training until validation scores don't improve for 1000 rounds.\n",
      "[200]\ttraining's l2: 0.10193\tvalid_1's l2: 0.222348\n",
      "[400]\ttraining's l2: 0.0516708\tvalid_1's l2: 0.213496\n",
      "[600]\ttraining's l2: 0.027347\tvalid_1's l2: 0.210103\n",
      "[800]\ttraining's l2: 0.0152912\tvalid_1's l2: 0.207147\n",
      "[1000]\ttraining's l2: 0.0087551\tvalid_1's l2: 0.205565\n",
      "[1200]\ttraining's l2: 0.00517473\tvalid_1's l2: 0.205272\n",
      "[1400]\ttraining's l2: 0.00308952\tvalid_1's l2: 0.205403\n",
      "[1600]\ttraining's l2: 0.00191511\tvalid_1's l2: 0.205021\n",
      "[1800]\ttraining's l2: 0.00120834\tvalid_1's l2: 0.205075\n",
      "[2000]\ttraining's l2: 0.000792223\tvalid_1's l2: 0.204891\n",
      "Early stopping, best iteration is:\n",
      "[1140]\ttraining's l2: 0.00603258\tvalid_1's l2: 0.204785\n",
      "fold n°3\n",
      "Training until validation scores don't improve for 1000 rounds.\n",
      "[200]\ttraining's l2: 0.0986475\tvalid_1's l2: 0.21853\n",
      "[400]\ttraining's l2: 0.0474013\tvalid_1's l2: 0.22505\n",
      "[600]\ttraining's l2: 0.0244749\tvalid_1's l2: 0.228563\n",
      "[800]\ttraining's l2: 0.0130689\tvalid_1's l2: 0.231355\n",
      "[1000]\ttraining's l2: 0.00728487\tvalid_1's l2: 0.23213\n",
      "Early stopping, best iteration is:\n",
      "[44]\ttraining's l2: 0.188126\tvalid_1's l2: 0.211281\n",
      "fold n°4\n",
      "Training until validation scores don't improve for 1000 rounds.\n",
      "[200]\ttraining's l2: 0.100724\tvalid_1's l2: 0.185083\n",
      "[400]\ttraining's l2: 0.0494875\tvalid_1's l2: 0.175235\n",
      "[600]\ttraining's l2: 0.0258533\tvalid_1's l2: 0.175052\n",
      "[800]\ttraining's l2: 0.0143028\tvalid_1's l2: 0.17619\n",
      "[1000]\ttraining's l2: 0.00817696\tvalid_1's l2: 0.177567\n",
      "[1200]\ttraining's l2: 0.00476659\tvalid_1's l2: 0.178424\n",
      "[1400]\ttraining's l2: 0.0028098\tvalid_1's l2: 0.179734\n",
      "Early stopping, best iteration is:\n",
      "[515]\ttraining's l2: 0.0341018\tvalid_1's l2: 0.173775\n",
      "fold n°5\n",
      "Training until validation scores don't improve for 1000 rounds.\n",
      "[200]\ttraining's l2: 0.102887\tvalid_1's l2: 0.189554\n",
      "[400]\ttraining's l2: 0.0521551\tvalid_1's l2: 0.182521\n",
      "[600]\ttraining's l2: 0.0275927\tvalid_1's l2: 0.180352\n",
      "[800]\ttraining's l2: 0.0153348\tvalid_1's l2: 0.179137\n",
      "[1000]\ttraining's l2: 0.00870733\tvalid_1's l2: 0.178107\n",
      "[1200]\ttraining's l2: 0.00509143\tvalid_1's l2: 0.17757\n",
      "[1400]\ttraining's l2: 0.0030509\tvalid_1's l2: 0.177414\n",
      "[1600]\ttraining's l2: 0.00185767\tvalid_1's l2: 0.177007\n",
      "[1800]\ttraining's l2: 0.00116585\tvalid_1's l2: 0.177108\n",
      "[2000]\ttraining's l2: 0.000760284\tvalid_1's l2: 0.177021\n",
      "[2200]\ttraining's l2: 0.000513145\tvalid_1's l2: 0.176936\n",
      "[2400]\ttraining's l2: 0.000353304\tvalid_1's l2: 0.176797\n",
      "[2600]\ttraining's l2: 0.00025098\tvalid_1's l2: 0.176702\n",
      "[2800]\ttraining's l2: 0.00018565\tvalid_1's l2: 0.176637\n",
      "[3000]\ttraining's l2: 0.000141482\tvalid_1's l2: 0.176635\n",
      "[3200]\ttraining's l2: 0.000111653\tvalid_1's l2: 0.176597\n",
      "[3400]\ttraining's l2: 8.99769e-05\tvalid_1's l2: 0.176553\n",
      "[3600]\ttraining's l2: 7.52543e-05\tvalid_1's l2: 0.176566\n",
      "[3800]\ttraining's l2: 6.43962e-05\tvalid_1's l2: 0.176574\n",
      "[4000]\ttraining's l2: 5.70306e-05\tvalid_1's l2: 0.176573\n",
      "[4200]\ttraining's l2: 5.36309e-05\tvalid_1's l2: 0.176575\n",
      "[4400]\ttraining's l2: 5.36309e-05\tvalid_1's l2: 0.176575\n",
      "Early stopping, best iteration is:\n",
      "[3535]\ttraining's l2: 7.9286e-05\tvalid_1's l2: 0.176542\n"
     ]
    }
   ],
   "source": [
    "param = {'num_leaves': 120,\n",
    "         'min_data_in_leaf': 30, \n",
    "         'objective':'regression',\n",
    "         'max_depth': -1,\n",
    "         'learning_rate': 0.01,\n",
    "         \"min_child_samples\": 30,\n",
    "         \"boosting\": \"gbdt\",\n",
    "         \"feature_fraction\": 0.9,\n",
    "         \"bagging_freq\": 1,\n",
    "         \"bagging_fraction\": 0.9,\n",
    "         \"bagging_seed\": 11,\n",
    "         \"metric\": 'mse',\n",
    "         \"lambda_l1\": 0.1,\n",
    "         \"verbosity\": -1}\n",
    "\n",
    "folds = KFold(n_splits=5, shuffle=True, random_state=2019)\n",
    "pred = np.zeros(len(test))\n",
    "\n",
    "for fold_, (trn_idx, val_idx) in enumerate(folds.split(x, y)):\n",
    "    print(\"fold n°{}\".format(fold_+1))\n",
    "    trn_data = lgb.Dataset(x.iloc[trn_idx], y.iloc[trn_idx])\n",
    "    val_data = lgb.Dataset(x.iloc[val_idx], y.iloc[val_idx])\n",
    "\n",
    "    clf = lgb.train(param, \n",
    "                    trn_data, \n",
    "                    num_boost_round=20000, \n",
    "                    valid_sets = [trn_data, val_data], \n",
    "                    verbose_eval = 200, \n",
    "                    early_stopping_rounds = 1000)\n",
    "    pred += clf.predict(test, num_iteration=clf.best_iteration) / folds.n_splits"
   ]
  },
  {
   "cell_type": "code",
   "execution_count": 21,
   "metadata": {},
   "outputs": [],
   "source": [
    "submit = pd.read_csv(\"sample_submission.csv\")\n",
    "submit['target'] = pred\n",
    "submit.to_csv(\"simple.csv\", index=None)"
   ]
  },
  {
   "cell_type": "code",
   "execution_count": null,
   "metadata": {},
   "outputs": [],
   "source": []
  },
  {
   "cell_type": "code",
   "execution_count": null,
   "metadata": {},
   "outputs": [],
   "source": []
  }
 ],
 "metadata": {
  "kernelspec": {
   "display_name": "Python 3",
   "language": "python",
   "name": "python3"
  },
  "language_info": {
   "codemirror_mode": {
    "name": "ipython",
    "version": 3
   },
   "file_extension": ".py",
   "mimetype": "text/x-python",
   "name": "python",
   "nbconvert_exporter": "python",
   "pygments_lexer": "ipython3",
   "version": "3.6.0"
  }
 },
 "nbformat": 4,
 "nbformat_minor": 2
}
